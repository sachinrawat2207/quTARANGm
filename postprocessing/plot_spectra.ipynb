{
 "cells": [
  {
   "cell_type": "code",
   "execution_count": null,
   "metadata": {},
   "outputs": [],
   "source": [
    "from postprocessing.libs.spectrum import specanalysis\n",
    "import matplotlib.pyplot as plt\n",
    "\n",
    "S = specanalysis()\n",
    "\n",
    "linewidth = 2.5\n",
    "plt.rcParams.update({'font.size':'20',\n",
    "                     'font.family':'serif',\n",
    "                     'font.weight':'bold',\n",
    "                     'lines.linewidth':linewidth,\n",
    "                     'text.usetex':True})"
   ]
  },
  {
   "cell_type": "markdown",
   "metadata": {},
   "source": [
    "## Spectra"
   ]
  },
  {
   "cell_type": "markdown",
   "metadata": {},
   "source": [
    "### (a) Spectra using binning"
   ]
  },
  {
   "cell_type": "code",
   "execution_count": null,
   "metadata": {},
   "outputs": [],
   "source": [
    "# Spectra using binning\n",
    "# Ti and Tf are the inital and final time for which averaging needs to be done\n",
    "k, kei_spec, kec_spec = S.ke_spec(Ti = 0, Tf = 0, type='bin')"
   ]
  },
  {
   "cell_type": "code",
   "execution_count": null,
   "metadata": {},
   "outputs": [],
   "source": [
    "# Plot\n",
    "plt.loglog(k, kec_spec)\n",
    "plt.ylim(bottom = 1e-6)\n",
    "plt.savefig(S.op/\"compspec_bin.jpeg\", dpi=300, bbox_inches='tight') # save data to the postprocesing folder in output directory"
   ]
  },
  {
   "cell_type": "code",
   "execution_count": null,
   "metadata": {},
   "outputs": [],
   "source": [
    "plt.loglog(k, kei_spec)\n",
    "plt.ylim(bottom = 1e-6)\n",
    "plt.savefig(S.op/\"incompspec_bin.jpeg\", dpi=300, bbox_inches='tight')# save data to the postprocesing folder in output directory"
   ]
  },
  {
   "cell_type": "code",
   "execution_count": null,
   "metadata": {},
   "outputs": [],
   "source": [
    "#Parspec Using Binning\n",
    "k, parspec = S.par_spec(Ti = 0)\n",
    "plt.loglog(k, parspec)\n",
    "plt.ylim(bottom = 1e-6)\n",
    "plt.savefig(S.op/\"parspec_bin.jpeg\", dpi=300, bbox_inches='tight')# save data to the postprocesing folder in output directory"
   ]
  },
  {
   "cell_type": "markdown",
   "metadata": {},
   "source": [
    "### (b) Spectra using angle averaged Weiner-Khinchin theorem"
   ]
  },
  {
   "cell_type": "code",
   "execution_count": null,
   "metadata": {},
   "outputs": [],
   "source": [
    "k, kei_spec, kec_spec = S.ke_spec(Ti = 0, Tf = 0, type='resolved', N = 1000)"
   ]
  },
  {
   "cell_type": "code",
   "execution_count": null,
   "metadata": {},
   "outputs": [],
   "source": [
    "# Plot\n",
    "plt.loglog(k, kec_spec)\n",
    "\n",
    "plt.ylim(bottom = 1e-6)\n",
    "plt.savefig(S.op/\"res_compspec_bin.jpeg\", dpi=300, bbox_inches='tight')# save data to the postprocesing folder in output directory"
   ]
  },
  {
   "cell_type": "code",
   "execution_count": null,
   "metadata": {},
   "outputs": [],
   "source": [
    "plt.loglog(k, kei_spec)\n",
    "plt.ylim(bottom = 1e-6)\n",
    "plt.savefig(S.op/\"res_incompspec_bin.jpeg\", dpi=300, bbox_inches='tight')# save data to the postprocesing folder in output directory"
   ]
  },
  {
   "cell_type": "markdown",
   "metadata": {},
   "source": [
    "### Fluxes"
   ]
  },
  {
   "cell_type": "markdown",
   "metadata": {},
   "source": [
    "### (a) Kinetic Energy Fluxes"
   ]
  },
  {
   "cell_type": "code",
   "execution_count": null,
   "metadata": {},
   "outputs": [],
   "source": [
    "k, kei_flux, kec_flux = S.ke_flux(Ti = 3, Tf = 3, N = 1000)"
   ]
  },
  {
   "cell_type": "code",
   "execution_count": null,
   "metadata": {},
   "outputs": [],
   "source": [
    "plt.plot(k, kei_flux)\n",
    "# plt.ylim(bottom = 1e-6)\n",
    "plt.xscale('log')\n",
    "plt.yscale('symlog')\n",
    "plt.xlim(right = 3e1)\n",
    "plt.savefig(S.op/\"incompflux.jpeg\", dpi=300, bbox_inches='tight')# save data to the postprocesing folder in output directory"
   ]
  },
  {
   "cell_type": "code",
   "execution_count": null,
   "metadata": {},
   "outputs": [],
   "source": [
    "plt.plot(k, kec_flux)\n",
    "plt.xscale('log')\n",
    "plt.yscale('symlog')\n",
    "plt.xlim(right = 3e1)\n",
    "plt.savefig(S.op/\"compflux.jpeg\", dpi=300, bbox_inches='tight')# save data to the postprocesing folder in output directory"
   ]
  },
  {
   "cell_type": "markdown",
   "metadata": {},
   "source": [
    "### (b) Particle number Flux"
   ]
  },
  {
   "cell_type": "code",
   "execution_count": null,
   "metadata": {},
   "outputs": [],
   "source": [
    "k, par_flux = S.par_flux(Ti = 5, Tf = 5)"
   ]
  },
  {
   "cell_type": "code",
   "execution_count": null,
   "metadata": {},
   "outputs": [],
   "source": [
    "plt.plot(k, par_flux)\n",
    "plt.xscale('log')\n",
    "plt.yscale('symlog')\n",
    "plt.xlim(right = 3e1)\n",
    "plt.savefig(S.op/\"parflux.jpeg\", dpi=300, bbox_inches='tight')\n"
   ]
  }
 ],
 "metadata": {
  "kernelspec": {
   "display_name": "Python 3",
   "language": "python",
   "name": "python3"
  },
  "language_info": {
   "codemirror_mode": {
    "name": "ipython",
    "version": 3
   },
   "file_extension": ".py",
   "mimetype": "text/x-python",
   "name": "python",
   "nbconvert_exporter": "python",
   "pygments_lexer": "ipython3",
   "version": "3.11.7"
  }
 },
 "nbformat": 4,
 "nbformat_minor": 2
}
