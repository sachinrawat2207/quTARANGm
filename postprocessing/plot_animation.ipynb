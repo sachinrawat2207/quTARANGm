{
 "cells": [
  {
   "cell_type": "markdown",
   "metadata": {},
   "source": [
    "The wavefunctions stored in form of  `wfc_t*****.h5`, where `*****` is the time step at which they are stored. For ex the name `wfc_t0.500000.h5` represents that the wavefunction is stored at time t=0.5  Using `quplot2d` class of `qtanimation2d` library we can plot the density and both phase along with density of the wavefunctions. The postprocessing output will be stored inside the postprocessing directory within the output folder. The user need not to create the postprocessing folder explicity, it will be created automatically by the code.\n",
    "The following code shows  detailed steps to visualize the wavefunction named from `wfc_t0.000000.h5` to `wfc_t0.200000.h5`."
   ]
  },
  {
   "cell_type": "markdown",
   "metadata": {},
   "source": [
    "Step 1: Set the path of the output directory inside the `config.py` file located in  `quTARANG/postprocessing/postprocessing` directory. \n",
    "\n",
    "Step 2: Run the following code to visualize the wavefunctions."
   ]
  },
  {
   "cell_type": "markdown",
   "metadata": {},
   "source": [
    "### Plotting density plots and density animation"
   ]
  },
  {
   "cell_type": "code",
   "execution_count": null,
   "metadata": {},
   "outputs": [],
   "source": [
    "from src.libs.qtanimation2d import quplot2d\n",
    "\n",
    "\"\"\"\n",
    "pl = quplot2d(ti = 0, tf = 20) \n",
    "In this command <ti> and <tf> are the initial and final time between which we needs to\n",
    "plot the density plots and animation \n",
    "\"\"\"\n",
    "pl = quplot2d(ti = 0, tf = 20) \n",
    "\n",
    "\"\"\"\n",
    "pl.plotd(skip = 0)\n",
    "this command will plot the density plots and store them in the folder 'postprocessing/density_plots'\n",
    "<skip> is the number of wavefunciton skiped while plotting the density plots default value is 0.\n",
    "\"\"\"\n",
    "pl.plotd(skip = 0)\n",
    "\n",
    "\n",
    "\"\"\"\n",
    "pl.animation(fps = 10, skip = 1, quality = 5, ptype='d') \n",
    "This command will generate the animation and store it in the folder 'postprocessing/animation'. This command will \n",
    "generate the animation using the density plots generated using previous commnand.\n",
    "<fps> is the frame per second,  <skip> is the number of wavefucntion skiped while generating animation. <quality> is the quality of the animation and it ranges\n",
    "from 1 to 10, 10 corresponds to the resloution similar to the plots while lower value will coresponds to the reduced\n",
    "quality, <ptype> is the type of the plot and it will one value among 'd' and 'pd' representing the animation of denity alone \n",
    "while  'pd' will represent the animation of density and phase together.\n",
    "\"\"\"\n",
    "\n",
    "pl.animation(fps = 10, skip = 0, quality = 5, ptype='d') "
   ]
  },
  {
   "cell_type": "markdown",
   "metadata": {},
   "source": [
    "### Plotting both phase density plots and corresponding animation"
   ]
  },
  {
   "cell_type": "code",
   "execution_count": null,
   "metadata": {},
   "outputs": [],
   "source": [
    "from postprocessing.libs.qtanimation2d import quplot2d\n",
    "pl.plotpd(skip = 0)\n",
    "pl.animation(fps = 10, skip = 1, quality = 5, ptype='pd') "
   ]
  }
 ],
 "metadata": {
  "kernelspec": {
   "display_name": "Python 3",
   "language": "python",
   "name": "python3"
  },
  "language_info": {
   "codemirror_mode": {
    "name": "ipython",
    "version": 3
   },
   "file_extension": ".py",
   "mimetype": "text/x-python",
   "name": "python",
   "nbconvert_exporter": "python",
   "pygments_lexer": "ipython3",
   "version": "3.10.12"
  }
 },
 "nbformat": 4,
 "nbformat_minor": 2
}
